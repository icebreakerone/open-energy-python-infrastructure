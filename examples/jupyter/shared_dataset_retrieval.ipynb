{
  "cells": [
    {
      "cell_type": "markdown",
      "source": [
        "# Open Energy Shared Dataset Retrieval example\n",
        "\n",
        "This Jupyter Notebook uses Open Energy Search to identify a Shared dataset that requires authorisation using [Open Energy access control](https://docs.openenergy.org.uk/main/access_control_specification.html) in order to download it.\n",
        "\n",
        "Shared data is one of the [three classes of data](https://icebreakerone.org/open-shared-closed/) (Open, Shared, Closed) in the Open Energy ecosystem, and denotes data that may be used by members of the Open Energy ecosystem subject to conditions set by the data owner.\n",
        "\n",
        "You or your organisation need to have registered with an Open Energy account and created your access credentials before using this notebook. This process is detailed in another Jupyter notebook: [Setting up a shared data connection](https://colab.research.google.com/github/icebreakerone/open-energy-python-infrastructure/blob/main/examples/jupyter/setting_up_a_shared_data_connection.ipynb).\n",
        "\n",
        "For an example of using Open Energy Search to find and access Open datasets, see [Open Energy Open Dataset Retrieval Example](https://colab.research.google.com/github/icebreakerone/open-energy-python-infrastructure/blob/main/examples/jupyter/open_dataset_retrieval.ipynb)"
      ],
      "metadata": {
        "id": "_5Kb8jM6eoxC"
      },
      "id": "_5Kb8jM6eoxC"
    },
    {
      "cell_type": "markdown",
      "source": [
        "## Install dependencies"
      ],
      "metadata": {
        "id": "7Qd2JwqPM4z8"
      },
      "id": "7Qd2JwqPM4z8"
    },
    {
      "cell_type": "code",
      "source": [
        "!pip install ib1.openenergy.support pandas geopandas matplotlib rtree\n",
        "!oe_install_cacerts"
      ],
      "metadata": {
        "id": "mdbG3vKSMTsD",
        "collapsed": true
      },
      "id": "mdbG3vKSMTsD",
      "execution_count": null,
      "outputs": []
    },
    {
      "cell_type": "markdown",
      "id": "06d1ae8f-10ce-49a0-89db-423a0a4853d8",
      "metadata": {
        "id": "06d1ae8f-10ce-49a0-89db-423a0a4853d8"
      },
      "source": [
        "## Set up connection to Open Energy CKAN Server"
      ]
    },
    {
      "cell_type": "code",
      "execution_count": null,
      "id": "eb066c80-6821-4ad7-bd62-dfdb8b51134d",
      "metadata": {
        "tags": [],
        "id": "eb066c80-6821-4ad7-bd62-dfdb8b51134d"
      },
      "outputs": [],
      "source": [
        "from ckanapi import RemoteCKAN\n",
        "ua = 'openenergyexample/1.0'\n",
        "oeserver = RemoteCKAN('https://search.openenergy.org.uk', user_agent=ua)"
      ]
    },
    {
      "cell_type": "markdown",
      "id": "ca76a533-35f9-4eb7-b703-8b659901d3af",
      "metadata": {
        "id": "ca76a533-35f9-4eb7-b703-8b659901d3af"
      },
      "source": [
        "## Search for term"
      ]
    },
    {
      "cell_type": "code",
      "execution_count": null,
      "id": "c9427de5-ed2f-4538-8b66-761b057c079a",
      "metadata": {
        "jupyter": {
          "source_hidden": true
        },
        "tags": [],
        "id": "c9427de5-ed2f-4538-8b66-761b057c079a"
      },
      "outputs": [],
      "source": [
        "search_term = 'bis headquarters'\n",
        "search_results = oeserver.action.package_search(q=search_term)"
      ]
    },
    {
      "cell_type": "markdown",
      "id": "f207f47a-b63e-46bd-98e5-e7e7689dc8a4",
      "metadata": {
        "id": "f207f47a-b63e-46bd-98e5-e7e7689dc8a4"
      },
      "source": [
        "## Show table of results"
      ]
    },
    {
      "cell_type": "code",
      "execution_count": null,
      "id": "8aaacd6a-b503-49c3-b6e8-9816997ce706",
      "metadata": {
        "tags": [],
        "id": "8aaacd6a-b503-49c3-b6e8-9816997ce706",
        "collapsed": true
      },
      "outputs": [],
      "source": [
        "import pandas as pd\n",
        "search_results_df = pd.json_normalize(search_results['results'], max_level=1).filter(items=('organization.title', 'title','license_title','num_resources', 'id'))\n",
        "display(search_results_df)"
      ]
    },
    {
      "cell_type": "markdown",
      "id": "9c658084-57f2-49b1-93cc-ee069b214392",
      "metadata": {
        "id": "9c658084-57f2-49b1-93cc-ee069b214392"
      },
      "source": [
        "## Select a package"
      ]
    },
    {
      "cell_type": "code",
      "execution_count": null,
      "id": "a71ea418-fb77-4db7-af3b-80fa71c17514",
      "metadata": {
        "jupyter": {
          "source_hidden": true
        },
        "tags": [],
        "id": "a71ea418-fb77-4db7-af3b-80fa71c17514",
        "collapsed": true
      },
      "outputs": [],
      "source": [
        "from ipywidgets import widgets as wgt\n",
        "from IPython.display import HTML, Markdown\n",
        "\n",
        "# id from search results\n",
        "package_id = '047ce029-400f-4772-a812-5477c38e58aa' \n",
        "package = oeserver.action.package_show(id=package_id)\n",
        "resources_df = pd.DataFrame(package['resources'], columns=['name', 'format', 'size', 'url'])\n",
        "\n",
        "#Custom styles: bold labels and tighter line spacing\n",
        "display(HTML(\"<style>.ib-label { font-weight:bold; } .widget-label { margin-bottom: 10px; } .widget-html > .widget-html-content { line-height:1.5; margin-bottom: 10px;}</style>\"))\n",
        "items = [\n",
        "    wgt.HTML('Organization'), wgt.HTML(package['organization']['name']),\n",
        "    wgt.HTML('Title'), wgt.HTML(package['title']),\n",
        "    wgt.HTML('Name'), wgt.HTML(package['name']),\n",
        "    wgt.HTML('Is Open'), wgt.HTML('Open' if package['isopen'] else 'Not open'),\n",
        "    wgt.HTML('Notes'), wgt.HTML(package['notes'])\n",
        "]\n",
        "for i in items[::2]:\n",
        "    i.add_class(\"ib-label\")\n",
        "\n",
        "gb = wgt.GridBox(items, layout=wgt.Layout(grid_template_columns=\"100px fit-content(60%)\"))\n",
        "display(gb)\n",
        "\n",
        "display(Markdown('### Resources'))\n",
        "display(resources_df)"
      ]
    },
    {
      "cell_type": "markdown",
      "id": "271db27e-3f1e-4b72-8d0f-20374d56f96a",
      "metadata": {
        "id": "271db27e-3f1e-4b72-8d0f-20374d56f96a"
      },
      "source": [
        "## Get the Open API spec for OE server"
      ]
    },
    {
      "cell_type": "code",
      "execution_count": null,
      "id": "f6d03722-d509-4afc-9e75-38283c92d003",
      "metadata": {
        "jupyter": {
          "source_hidden": true
        },
        "tags": [],
        "id": "f6d03722-d509-4afc-9e75-38283c92d003",
        "collapsed": true
      },
      "outputs": [],
      "source": [
        "import requests\n",
        "import json\n",
        "\n",
        "url = ''\n",
        "for res in package['resources']:\n",
        "    if res['type'] == 'api':\n",
        "        url = res['url']\n",
        "\n",
        "result = requests.get(url)\n",
        "openapi_spec = json.loads(result.text)\n",
        "print(json.dumps(openapi_spec, indent=2))"
      ]
    },
    {
      "cell_type": "markdown",
      "source": [
        "### Mount Drive to access stored key, certificate and client ID\n",
        "\n",
        "These files were created in [Setting up a shared data connection.ipynb](https://colab.research.google.com/drive/18xWWO_CxWZIylP04EjSBiJDWKAWa_EVg#scrollTo=m6OrQrJ6N9Sf)\n",
        "\n",
        "Mount your Jupyter environment to your Drive. This will pop up a warning and then take you through a standard permissioning flow to allow access to your Drive.\n",
        "\n",
        "If you have your Open Energy key and certificate stored with a different mechanism, replace this step."
      ],
      "metadata": {
        "id": "oButN3ufRJHc"
      },
      "id": "oButN3ufRJHc"
    },
    {
      "cell_type": "code",
      "source": [
        "from google.colab import drive\n",
        "drive.mount('/content/drive')\n",
        "!ls /content/drive/MyDrive/oe-certs"
      ],
      "metadata": {
        "collapsed": true,
        "id": "g_QA44lERTDM"
      },
      "id": "g_QA44lERTDM",
      "execution_count": null,
      "outputs": []
    },
    {
      "cell_type": "code",
      "source": [
        "oe_key = '/content/drive/MyDrive/oe-certs/oe.key'\n",
        "oe_cert = '/content/drive/MyDrive/oe-certs/oe.pem'\n",
        "client_id = ''\n",
        "\n",
        "with open('/content/drive/MyDrive/oe-certs/client_id.txt') as f:\n",
        "  client_id = f.readline()\n",
        "\n",
        "print('Client ID: {0}'.format(client_id))"
      ],
      "metadata": {
        "collapsed": true,
        "id": "fJxd73xMTaDM"
      },
      "id": "fJxd73xMTaDM",
      "execution_count": null,
      "outputs": []
    },
    {
      "cell_type": "markdown",
      "source": [
        "### Create FAPI session"
      ],
      "metadata": {
        "id": "DSZCZe33XRr7"
      },
      "id": "DSZCZe33XRr7"
    },
    {
      "cell_type": "code",
      "source": [
        "from ib1.openenergy.support import FAPISession\n",
        "\n",
        "client = FAPISession(client_id=client_id,\n",
        "                     issuer_url='https://matls-auth.directory.energydata.org.uk',\n",
        "                     requested_scopes='directory:software',\n",
        "                     private_key=oe_key,\n",
        "                     certificate=oe_cert)"
      ],
      "metadata": {
        "id": "ui8smslwmhSA"
      },
      "id": "ui8smslwmhSA",
      "execution_count": null,
      "outputs": []
    },
    {
      "cell_type": "markdown",
      "source": [
        "## Fetch the dataset"
      ],
      "metadata": {
        "id": "I7KukAOidASu"
      },
      "id": "I7KukAOidASu"
    },
    {
      "cell_type": "code",
      "execution_count": null,
      "id": "c02cf968-3778-4ffa-b6d2-96655030e10b",
      "metadata": {
        "jupyter": {
          "source_hidden": true
        },
        "id": "c02cf968-3778-4ffa-b6d2-96655030e10b",
        "collapsed": true
      },
      "outputs": [],
      "source": [
        "import io\n",
        "\n",
        "url = openapi_spec['servers'][0]['url']+list(openapi_spec['paths'].keys())[0]\n",
        "\n",
        "csv_data = client.session.get(url=url).text\n",
        "\n",
        "df = pd.read_csv(io.StringIO(csv_data)) \n",
        "display(df)"
      ]
    },
    {
      "cell_type": "markdown",
      "source": [
        "### Plot it out"
      ],
      "metadata": {
        "id": "3BzsSA2Nc82P"
      },
      "id": "3BzsSA2Nc82P"
    },
    {
      "cell_type": "code",
      "source": [
        "import matplotlib.pyplot as plt\n",
        "from datetime import datetime\n",
        "\n",
        "def datetime_from_date_time(d, t):\n",
        "    return datetime.strptime(d+' '+t, '%d/%m/%y %H:%M')\n",
        "\n",
        "df['date_obj'] = list(map(datetime_from_date_time, df['date'], df['time']))\n",
        "df.sort_values(by='date_obj', inplace=True)\n",
        "\n",
        "df2 = df[df.date_obj > datetime.strptime('01/04/19', '%d/%m/%y')].sort_values(by='date_obj')\n",
        "                                                                        \n",
        "x = df2['date_obj']\n",
        "y = df2['electricity_kwh']\n",
        "\n",
        "plt.figure(figsize=(15,5))\n",
        "\n",
        "# beautify the x-labels\n",
        "plt.gcf().autofmt_xdate()\n",
        "# plot\n",
        "plt.plot(x,y)\n",
        "plt.show()"
      ],
      "metadata": {
        "collapsed": true,
        "id": "l2te9tfsdBvR"
      },
      "id": "l2te9tfsdBvR",
      "execution_count": null,
      "outputs": []
    }
  ],
  "metadata": {
    "kernelspec": {
      "display_name": "venv",
      "language": "python",
      "name": "venv"
    },
    "language_info": {
      "codemirror_mode": {
        "name": "ipython",
        "version": 3
      },
      "file_extension": ".py",
      "mimetype": "text/x-python",
      "name": "python",
      "nbconvert_exporter": "python",
      "pygments_lexer": "ipython3",
      "version": "3.9.8"
    },
    "colab": {
      "name": "OE Shared Dataset Retrieval.ipynb",
      "provenance": [],
      "collapsed_sections": []
    }
  },
  "nbformat": 4,
  "nbformat_minor": 5
}