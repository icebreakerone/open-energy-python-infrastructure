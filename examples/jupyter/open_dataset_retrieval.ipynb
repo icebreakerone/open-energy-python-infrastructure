{
  "cells": [
    {
      "cell_type": "code",
      "source": [
        ""
      ],
      "metadata": {
        "id": "lSqJfFWhxkgy"
      },
      "id": "lSqJfFWhxkgy",
      "execution_count": null,
      "outputs": []
    },
    {
      "cell_type": "markdown",
      "source": [
        "# Open Energy Open Dataset Retrieval example\n",
        "\n",
        "This Jupyter Notebook uses Open Energy Search to find an Open dataset that is available publicly without access controls. The metadata is used to check the format, then the dataset is downloaded and displayed in a visualisation.\n",
        "\n",
        "Open data is one of the [three classes of data](https://icebreakerone.org/open-shared-closed/) (Open, Shared, Closed) in the Open Energy ecosystem. Open data is freely available without restrictions on how it is used.\n",
        "\n",
        "Open Energy Search also indexes Shared data - data that may be used by Open Energy members subject to conditions set by the data owner. For an example of using Open Energy Search and [Open Energy access control](https://docs.openenergy.org.uk/main/access_control_specification.html) to retrieve Shared datasets, see [Open Energy Shared Dataset Retrieval Example](https://colab.research.google.com/github/icebreakerone/open-energy-python-infrastructure/blob/main/examples/jupyter/shared_dataset_retrieval.ipynb)"
      ],
      "metadata": {
        "id": "RRaZNGLhuinF"
      },
      "id": "RRaZNGLhuinF"
    },
    {
      "cell_type": "markdown",
      "source": [
        "## Install dependencies"
      ],
      "metadata": {
        "id": "7Qd2JwqPM4z8"
      },
      "id": "7Qd2JwqPM4z8"
    },
    {
      "cell_type": "code",
      "source": [
        "!pip install ib1.openenergy.support pandas geopandas matplotlib rtree"
      ],
      "metadata": {
        "id": "mdbG3vKSMTsD",
        "collapsed": true
      },
      "id": "mdbG3vKSMTsD",
      "execution_count": null,
      "outputs": []
    },
    {
      "cell_type": "markdown",
      "id": "06d1ae8f-10ce-49a0-89db-423a0a4853d8",
      "metadata": {
        "id": "06d1ae8f-10ce-49a0-89db-423a0a4853d8"
      },
      "source": [
        "## Set up connection to Open Energy CKAN Server"
      ]
    },
    {
      "cell_type": "code",
      "execution_count": null,
      "id": "eb066c80-6821-4ad7-bd62-dfdb8b51134d",
      "metadata": {
        "tags": [],
        "id": "eb066c80-6821-4ad7-bd62-dfdb8b51134d"
      },
      "outputs": [],
      "source": [
        "from ckanapi import RemoteCKAN\n",
        "ua = 'openenergyexample/1.0'\n",
        "oeserver = RemoteCKAN('https://search.openenergy.org.uk', user_agent=ua)"
      ]
    },
    {
      "cell_type": "markdown",
      "id": "ca76a533-35f9-4eb7-b703-8b659901d3af",
      "metadata": {
        "id": "ca76a533-35f9-4eb7-b703-8b659901d3af"
      },
      "source": [
        "## Search for term"
      ]
    },
    {
      "cell_type": "code",
      "execution_count": null,
      "id": "c9427de5-ed2f-4538-8b66-761b057c079a",
      "metadata": {
        "jupyter": {
          "source_hidden": true
        },
        "tags": [],
        "id": "c9427de5-ed2f-4538-8b66-761b057c079a"
      },
      "outputs": [],
      "source": [
        "search_term = 'ev'\n",
        "search_results = oeserver.action.package_search(q=search_term)"
      ]
    },
    {
      "cell_type": "markdown",
      "id": "f207f47a-b63e-46bd-98e5-e7e7689dc8a4",
      "metadata": {
        "id": "f207f47a-b63e-46bd-98e5-e7e7689dc8a4"
      },
      "source": [
        "## Show table of results"
      ]
    },
    {
      "cell_type": "code",
      "execution_count": null,
      "id": "8aaacd6a-b503-49c3-b6e8-9816997ce706",
      "metadata": {
        "tags": [],
        "id": "8aaacd6a-b503-49c3-b6e8-9816997ce706",
        "collapsed": true
      },
      "outputs": [],
      "source": [
        "import pandas as pd\n",
        "search_results_df = pd.json_normalize(search_results['results'], max_level=1).filter(items=('organization.title', 'title','license_title','num_resources', 'id'))\n",
        "display(search_results_df)"
      ]
    },
    {
      "cell_type": "markdown",
      "id": "9c658084-57f2-49b1-93cc-ee069b214392",
      "metadata": {
        "id": "9c658084-57f2-49b1-93cc-ee069b214392"
      },
      "source": [
        "## Select a package"
      ]
    },
    {
      "cell_type": "code",
      "execution_count": null,
      "id": "a93abfa0-3268-48fc-ae8e-9e0d7dee6846",
      "metadata": {
        "tags": [],
        "id": "a93abfa0-3268-48fc-ae8e-9e0d7dee6846",
        "collapsed": true
      },
      "outputs": [],
      "source": [
        "from IPython.display import Markdown\n",
        "# id from search results\n",
        "package_id = 'a49e073c-018e-4e3e-965b-501396dc4e31'\n",
        "package = oeserver.action.package_show(id=package_id)\n",
        "#print(json.dumps(package, indent=2))\n",
        "pd.set_option('display.max_colwidth', None)\n",
        "package_df = pd.json_normalize(package, max_level=1).filter(items=('organization.title', 'title','notes','num_resources'))\n",
        "resources_df = pd.DataFrame(package['resources'], columns=['name', 'format', 'size', 'url'])\n",
        "display(Markdown('### Package details'))\n",
        "display(package_df)\n",
        "display(Markdown('### Resources'))\n",
        "display(resources_df)"
      ]
    },
    {
      "cell_type": "markdown",
      "id": "1370dab5-0c3e-4014-ae10-8006daee40c7",
      "metadata": {
        "id": "1370dab5-0c3e-4014-ae10-8006daee40c7"
      },
      "source": [
        "## Alternative display style"
      ]
    },
    {
      "cell_type": "code",
      "execution_count": null,
      "id": "a71ea418-fb77-4db7-af3b-80fa71c17514",
      "metadata": {
        "jupyter": {
          "source_hidden": true
        },
        "tags": [],
        "id": "a71ea418-fb77-4db7-af3b-80fa71c17514",
        "collapsed": true
      },
      "outputs": [],
      "source": [
        "from ipywidgets import widgets as wgt\n",
        "from IPython.display import HTML\n",
        "\n",
        "#Custom styles: bold labels and tighter line spacing\n",
        "display(HTML(\"<style>.ib-label { font-weight:bold; } .widget-label { margin-bottom: 10px; } .widget-html > .widget-html-content { line-height:1.5; margin-bottom: 10px;}</style>\"))\n",
        "items = [\n",
        "    wgt.HTML('Organization'), wgt.HTML(package['organization']['name']),\n",
        "    wgt.HTML('Title'), wgt.HTML(package['title']),\n",
        "    wgt.HTML('Name'), wgt.HTML(package['name']),\n",
        "    wgt.HTML('Is Open'), wgt.HTML('Open' if package['isopen'] else 'Not open'),\n",
        "    wgt.HTML('Notes'), wgt.HTML(package['notes'])\n",
        "]\n",
        "for i in items[::2]:\n",
        "    i.add_class(\"ib-label\")\n",
        "\n",
        "gb = wgt.GridBox(items, layout=wgt.Layout(grid_template_columns=\"100px fit-content(60%)\"))\n",
        "display(gb)\n",
        "\n",
        "display(Markdown('### Resources'))\n",
        "display(resources_df)"
      ]
    },
    {
      "cell_type": "markdown",
      "id": "271db27e-3f1e-4b72-8d0f-20374d56f96a",
      "metadata": {
        "id": "271db27e-3f1e-4b72-8d0f-20374d56f96a"
      },
      "source": [
        "## Choose resource number"
      ]
    },
    {
      "cell_type": "code",
      "execution_count": null,
      "id": "f6d03722-d509-4afc-9e75-38283c92d003",
      "metadata": {
        "jupyter": {
          "source_hidden": true
        },
        "tags": [],
        "id": "f6d03722-d509-4afc-9e75-38283c92d003"
      },
      "outputs": [],
      "source": [
        "selected_res_index = 0"
      ]
    },
    {
      "cell_type": "markdown",
      "source": [
        "## If it's a CSV, fetch it"
      ],
      "metadata": {
        "id": "I7KukAOidASu"
      },
      "id": "I7KukAOidASu"
    },
    {
      "cell_type": "code",
      "execution_count": null,
      "id": "c02cf968-3778-4ffa-b6d2-96655030e10b",
      "metadata": {
        "jupyter": {
          "source_hidden": true
        },
        "id": "c02cf968-3778-4ffa-b6d2-96655030e10b",
        "collapsed": true
      },
      "outputs": [],
      "source": [
        "csv_df = None\n",
        "\n",
        "res = package['resources'][selected_res_index]\n",
        "if res['format'] == 'CSV':\n",
        "    csv_df=pd.read_csv(res['url'])\n",
        "    title = wgt.HTML(res['name'])\n",
        "    title.add_class('ib-label')\n",
        "    display(title)\n",
        "    display(csv_df)\n",
        "else:\n",
        "    # Ignore other types for now\n",
        "    print('Sorry, can\\'t fetch non-CSV data yet!')"
      ]
    },
    {
      "cell_type": "markdown",
      "id": "2a8a0146-c008-4b5a-a979-23f761aa04f8",
      "metadata": {
        "id": "2a8a0146-c008-4b5a-a979-23f761aa04f8"
      },
      "source": [
        "## Only for Electric Vehicle Capacity Map - plot on chart"
      ]
    },
    {
      "cell_type": "code",
      "execution_count": null,
      "id": "82477d26-5e48-4c71-942b-6339ac6a3379",
      "metadata": {
        "jupyter": {
          "source_hidden": true
        },
        "id": "82477d26-5e48-4c71-942b-6339ac6a3379",
        "collapsed": true
      },
      "outputs": [],
      "source": [
        "#@title\n",
        "import matplotlib.pyplot as plt\n",
        "import geopandas\n",
        "from shapely.geometry import Polygon\n",
        "\n",
        "if res['name'] == 'Electric Vehicle  Capacity Map':\n",
        "    fig, ax = plt.subplots(figsize=(10,10))\n",
        "    countries = geopandas.read_file(geopandas.datasets.get_path(\"naturalearth_lowres\"))\n",
        "\n",
        "    xmin = csv_df['Longitude'].min()\n",
        "    xmax = csv_df['Longitude'].max()\n",
        "    ymin = csv_df['Latitude'].min()\n",
        "    ymax = csv_df['Latitude'].max()\n",
        "\n",
        "    box = Polygon([(xmin, ymin), (xmax, ymin), (xmax, ymax), (xmin, ymax), (xmin, ymin)])\n",
        "\n",
        "    zoom_area = countries.clip(box)\n",
        "\n",
        "    zoom_area.plot(color=\"lightgrey\", ax=ax)\n",
        "\n",
        "    csv_df.plot(x=\"Longitude\", y=\"Latitude\", kind=\"scatter\",\n",
        "            title=f\"Substations\", \n",
        "            ax=ax)\n",
        "    plt.show()\n",
        "else:\n",
        "    print('You\\'ll need to make your own visualisation of this one')"
      ]
    }
  ],
  "metadata": {
    "kernelspec": {
      "display_name": "venv",
      "language": "python",
      "name": "venv"
    },
    "language_info": {
      "codemirror_mode": {
        "name": "ipython",
        "version": 3
      },
      "file_extension": ".py",
      "mimetype": "text/x-python",
      "name": "python",
      "nbconvert_exporter": "python",
      "pygments_lexer": "ipython3",
      "version": "3.9.8"
    },
    "colab": {
      "name": "OE Open Dataset Retrieval.ipynb",
      "provenance": [],
      "collapsed_sections": []
    }
  },
  "nbformat": 4,
  "nbformat_minor": 5
}